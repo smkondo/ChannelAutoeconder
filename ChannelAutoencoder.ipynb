{
  "nbformat": 4,
  "nbformat_minor": 0,
  "metadata": {
    "colab": {
      "name": "ChannelAutoencoder.ipynb",
      "provenance": []
    },
    "kernelspec": {
      "name": "python3",
      "display_name": "Python 3"
    },
    "language_info": {
      "name": "python"
    },
    "accelerator": "GPU",
    "gpuClass": "standard"
  },
  "cells": [
    {
      "cell_type": "markdown",
      "source": [
        "# 3D reconstruction of turbulent channel flow using a deep autoencoder\n",
        "\n",
        "This notebook trains a convolutional autoencoder to reconstruct a 3D turbulent channel flow from 2D spanwise and streamwise splices. \n",
        "\n",
        "The turbulence channel flow is at Re_tau = 180 (rho = 1, nu = 1/180, u_tau = 1). \n",
        "\n",
        "We are given a time instance of the flow and will attempt to extract 3D coherent sturctures from the reconstructed flow"
      ],
      "metadata": {
        "id": "BSYSJomDgqGc"
      }
    },
    {
      "cell_type": "code",
      "execution_count": null,
      "metadata": {
        "id": "Uq3YFbpfgmCv"
      },
      "outputs": [],
      "source": [
        "#import all the required libraries and modules\n",
        "%matplotlib inline\n",
        "import os\n",
        "import torch \n",
        "import torchvision\n",
        "import torch.nn as nn\n",
        "import torchvision.transforms as transforms\n",
        "import torch.optim as optim\n",
        "import torch.nn.functional as F\n",
        "import matplotlib.pyplot as plt\n",
        "import matplotlib.axes as ax\n",
        "\n",
        "import numpy as np\n",
        "import random"
      ]
    },
    {
      "cell_type": "markdown",
      "source": [
        "# Import 3D turbulent channel flow data"
      ],
      "metadata": {
        "id": "Ofnwl_3vik8E"
      }
    },
    {
      "cell_type": "code",
      "source": [
        "from google.colab import drive\n",
        "drive.mount('/content/drive')"
      ],
      "metadata": {
        "id": "nsR-8adMn0s4",
        "colab": {
          "base_uri": "https://localhost:8080/"
        },
        "outputId": "e33822c9-9a95-4031-a247-9ff678fd4d74"
      },
      "execution_count": null,
      "outputs": [
        {
          "output_type": "stream",
          "name": "stdout",
          "text": [
            "Mounted at /content/drive\n"
          ]
        }
      ]
    },
    {
      "cell_type": "markdown",
      "source": [
        "The folder containing the instantaneous flow field is saved on my Google Drive in the \"3D turbulent channel flow\" folder "
      ],
      "metadata": {
        "id": "gq6wzUG6lSYE"
      }
    },
    {
      "cell_type": "code",
      "source": [
        "PATH = '/content/drive/MyDrive/3D turbulent channel flow/'\n",
        "\n",
        "Re_tau = 180\n",
        "# download the numpy arrays of the datapoint locations\n",
        "xdata = np.genfromtxt(PATH + 'Re180x.csv') * Re_tau\n",
        "ydata = np.genfromtxt(PATH + 'Re180y.csv') * Re_tau\n",
        "zdata = np.genfromtxt(PATH + 'Re180z.csv') * Re_tau\n",
        "\n",
        "nx = len(xdata)\n",
        "ny = len(ydata)\n",
        "nz = len(zdata)\n",
        "channel = 3\n",
        "\n",
        "# download the fluctuating velocity\n",
        "# download velocity\n",
        "u_data = np.reshape(np.genfromtxt(PATH + 'Re180u.csv',delimiter=','),(nx,nz,ny))\n",
        "v_data = np.reshape(np.genfromtxt(PATH + 'Re180v.csv',delimiter=','),(nx,nz,ny))\n",
        "w_data = np.reshape(np.genfromtxt(PATH + 'Re180w.csv',delimiter=','),(nx,nz,ny))\n",
        "\n",
        "u_data = u_data.transpose(2,0,1)\n",
        "v_data = v_data.transpose(2,0,1)\n",
        "w_data = w_data.transpose(2,0,1)\n",
        "\n",
        "unew = np.zeros((ny,channel,nx,nz))\n",
        "\n",
        "for i in range(ny):\n",
        "  unew[i,:,:,:] = np.reshape(np.stack((u_data[i,:,:],v_data[i,:,:],w_data[i,:,:])),(1,channel,nx,nz))\n",
        "\n",
        "udata = (unew - np.reshape(np.mean(unew,axis = (2,3)),(ny,channel,1,1)))"
      ],
      "metadata": {
        "id": "FFo0u7yftJVJ"
      },
      "execution_count": null,
      "outputs": []
    },
    {
      "cell_type": "markdown",
      "source": [
        "# Pre-processing data\n",
        "First we must pre-process the data such that the autoencoder can train adequately.\n",
        "\n",
        "In this section, we will also be creating the corrupt images that'll be used as inputs to the model. In this tutorial, the corrupt image will only contain ~6% of the original data.\n",
        "\n",
        "The training set will consist of ~80% of the data while the remaining ~20% will be used for testing"
      ],
      "metadata": {
        "id": "onKSAqzml1BB"
      }
    },
    {
      "cell_type": "markdown",
      "source": [
        "## pre-process the data\n",
        "velocity fluctuations will already have mean 0. Now we must ensure that the data falls within the range [-1,1] and have a uniform standard deviation"
      ],
      "metadata": {
        "id": "pxE4iTjtnIp0"
      }
    },
    {
      "cell_type": "code",
      "source": [
        "ustd = np.std(udata, axis = (2,3))\n",
        "ustd[0,0:channel] = 1.0\n",
        "\n",
        "umax = [np.max(udata[:,0,:,:]),np.max(udata[:,1,:,:]),np.max(udata[:,2,:,:])]\n",
        "\n",
        "ufluc = np.zeros(np.shape(udata))\n",
        "for i in range(len(ufluc)):\n",
        "  for j in range(3):\n",
        "    ufluc[i,j,:,:] = udata[i,j,:,:]/ustd[i,j]/umax[j]"
      ],
      "metadata": {
        "id": "FstVoDganIDB"
      },
      "execution_count": null,
      "outputs": []
    },
    {
      "cell_type": "markdown",
      "source": [
        "## make corrupt 3D image files\n",
        "Create a sparse data matrix of streamwise fluctuations from streamwise and spanwise 2D splices. \n",
        "\n",
        "* numx = number of streamwise splices\n",
        "* numz = number of spanwise splices\n"
      ],
      "metadata": {
        "id": "9l64TygJpreK"
      }
    },
    {
      "cell_type": "code",
      "source": [
        "numx = 25\n",
        "numz = 25\n",
        "xlist = random.sample(range(len(xdata)),numx)\n",
        "zlist = random.sample(range(len(zdata)),numz)\n",
        "\n",
        "# sparse 3D matrix from streamwise and spanwise splices\n",
        "uflucsparse = np.zeros(np.shape(ufluc))\n",
        "\n",
        "uflucsparse[:,:,xlist,:] = ufluc[:,:,xlist,:]\n",
        "uflucsparse[:,:,:,zlist] = ufluc[:,:,:,zlist]"
      ],
      "metadata": {
        "id": "Lw0w776mpyss"
      },
      "execution_count": null,
      "outputs": []
    },
    {
      "cell_type": "markdown",
      "source": [
        "## make train and test datasets"
      ],
      "metadata": {
        "id": "Q0EyD0uJp5lY"
      }
    },
    {
      "cell_type": "code",
      "source": [
        "# list of random y-locations for training\n",
        "ylist = random.sample(range(len(ydata)),80)\n",
        "\n",
        "# the remaining y locations for testing\n",
        "ylisttest = [i for i in range(ny) if i not in ylist]\n",
        "\n",
        "corr_train = uflucsparse[ylist,:,:,:]\n",
        "orig_train = ufluc[ylist,:,:,:]\n",
        "corr_test = uflucsparse[ylisttest,:,:,:]\n",
        "orig_test = ufluc[ylisttest,:,:,:]"
      ],
      "metadata": {
        "id": "_XqFrYtfqER6"
      },
      "execution_count": null,
      "outputs": []
    },
    {
      "cell_type": "code",
      "source": [
        "# we must now transform the matrix from a numpy array to a torch tensor to be used in the model\n",
        "def transform(datamatrix):\n",
        "  tensormatrix = torch.from_numpy(datamatrix).to(torch.float32)\n",
        "  return tensormatrix\n",
        "\n",
        "corr_train = transform(corr_train)\n",
        "orig_train = transform(orig_train)\n",
        "corr_test = transform(corr_test)\n",
        "orig_test = transform(orig_test)\n",
        "corr_full = transform(uflucsparse)"
      ],
      "metadata": {
        "id": "AoLkiQDaqRIM"
      },
      "execution_count": null,
      "outputs": []
    },
    {
      "cell_type": "markdown",
      "source": [
        "# Formulating the Autoencoder\n",
        "Now we can define the architectureo of the autoencoder:\n",
        "* define the model and loss function\n",
        "* define the optimization algorithm"
      ],
      "metadata": {
        "id": "c7QayTC4vdYF"
      }
    },
    {
      "cell_type": "code",
      "source": [
        "# first make runtime \"GPU\"\n",
        "device = 'cuda:0'\n",
        "\n",
        "# model parameters\n",
        "epochs = 100\n",
        "learning = 1e-3\n",
        "batch_size = 10"
      ],
      "metadata": {
        "id": "tpY0FTua1b4O"
      },
      "execution_count": null,
      "outputs": []
    },
    {
      "cell_type": "markdown",
      "source": [
        "6 layers are in this autoencoder. Each are a convolution layer"
      ],
      "metadata": {
        "id": "NQwtFsLgrAwx"
      }
    },
    {
      "cell_type": "code",
      "source": [
        "class Autoencoder(nn.Module):\n",
        "    def __init__(self):\n",
        "        super(Autoencoder, self).__init__()\n",
        "\n",
        "        # encoder\n",
        "        self.enc1 = nn.Conv2d(\n",
        "            in_channels=1, out_channels=6, kernel_size=3\n",
        "        )\n",
        "        self.enc2 = nn.Conv2d(\n",
        "            in_channels=6, out_channels=4, kernel_size=3\n",
        "        )\n",
        "\n",
        "        self.enc3 = nn.Conv2d(\n",
        "            in_channels=4, out_channels=2, kernel_size=3\n",
        "        )\n",
        "\n",
        "        # decoder \n",
        "        self.dec1 = nn.ConvTranspose2d(\n",
        "            in_channels=2, out_channels=4, kernel_size=3\n",
        "        )\n",
        "        self.dec2 = nn.ConvTranspose2d(\n",
        "            in_channels=4, out_channels=6, kernel_size=3\n",
        "        )\n",
        "        self.dec3 = nn.ConvTranspose2d(\n",
        "            in_channels=6, out_channels=1, kernel_size=3\n",
        "        )\n",
        "\n",
        "    def forward(self, x):\n",
        "       x = torch.tanh(self.enc1(x))\n",
        "       x = torch.tanh(self.enc2(x))\n",
        "       x = torch.tanh(self.enc3(x))\n",
        "       x = torch.tanh(self.dec1(x))\n",
        "       x = torch.tanh(self.dec2(x))\n",
        "       x = torch.tanh(self.dec3(x))\n",
        "       return x\n"
      ],
      "metadata": {
        "id": "I6cd9nLXvc6k"
      },
      "execution_count": null,
      "outputs": []
    },
    {
      "cell_type": "code",
      "source": [
        "criterion = nn.MSELoss() #mean-square error loss"
      ],
      "metadata": {
        "id": "6VsDhqPiwyr4"
      },
      "execution_count": null,
      "outputs": []
    },
    {
      "cell_type": "code",
      "source": [
        "#creating minibatches\n",
        "def data_iter(batch_size,corr_data,orig_data):\n",
        "    num_examples = len(corr_data)\n",
        "    indices = list(range(num_examples)) \n",
        "    for i in range(0,num_examples,batch_size):\n",
        "        batch_indices = torch.tensor(\n",
        "            indices[i: min(i + batch_size, num_examples)])\n",
        "        yield corr_data[batch_indices], orig_data[batch_indices]\n",
        "\n",
        "#training the model\n",
        "def train(net, corr_data, orig_data, NUM_EPOCHS):\n",
        "    train_loss = []\n",
        "    for epoch in range(NUM_EPOCHS):\n",
        "        running_loss = 0.0\n",
        "        cnt = 1\n",
        "        for corr_train,orig_train in data_iter(batch_size,corr_data,orig_data):\n",
        "            img = corr_train\n",
        "            img_orig = orig_train\n",
        "            img = img.to(device)\n",
        "            img_orig = img_orig.to(device)\n",
        "            optimizer.zero_grad()\n",
        "            outputs = net(img)\n",
        "            loss = criterion(outputs, img_orig)\n",
        "            loss.backward()\n",
        "            optimizer.step()\n",
        "            running_loss += loss.item()\n",
        "            cnt += 1\n",
        "        \n",
        "        loss = running_loss / cnt\n",
        "        train_loss.append(loss)\n",
        "        # print('Epoch {} of {}, Train Loss: {:.3f}'.format(\n",
        "        #     epoch+1, NUM_EPOCHS, loss))\n",
        "    return train_loss\n",
        "\n",
        "#testing the model    \n",
        "def test_image_reconstruction(net, corr_test):\n",
        "    img = corr_test\n",
        "    img = img.to(device)\n",
        "    outputs = net(img)\n",
        "    \n",
        "    return outputs"
      ],
      "metadata": {
        "id": "DfNJDAbl9mt4"
      },
      "execution_count": null,
      "outputs": []
    },
    {
      "cell_type": "markdown",
      "source": [
        "# Running the model\n",
        "Now we can train the model for each velocity direction"
      ],
      "metadata": {
        "id": "Ylu9kggPQcEc"
      }
    },
    {
      "cell_type": "code",
      "source": [
        "net1 = Autoencoder()\n",
        "optimizer = optim.Adam(net1.parameters(), lr = learning) #using the Adam optimizer\n",
        "\n",
        "corr_train_each = torch.reshape(corr_train[:,0,:,:],(80,1,nx,nz))\n",
        "orig_train_each = torch.reshape(orig_train[:,0,:,:],(80,1,nx,nz))\n",
        "\n",
        "net1.to(device)\n",
        "train_loss = train(net1, corr_train_each, orig_train_each, epochs)\n",
        "plt.figure(1)\n",
        "plt.plot(train_loss)\n",
        "plt.title('Train Loss for u')\n",
        "plt.xlabel('Epochs')\n",
        "plt.ylabel('Loss')\n",
        "\n",
        "net2 = Autoencoder()\n",
        "optimizer = optim.Adam(net2.parameters(), lr = learning) #using the Adam optimizer\n",
        "\n",
        "corr_train_each = torch.reshape(corr_train[:,1,:,:],(80,1,nx,nz))\n",
        "orig_train_each = torch.reshape(orig_train[:,1,:,:],(80,1,nx,nz))\n",
        "\n",
        "net2.to(device)\n",
        "train_loss = train(net2, corr_train_each, orig_train_each, epochs)\n",
        "plt.figure(2)\n",
        "plt.plot(train_loss)\n",
        "plt.title('Train Loss for v')\n",
        "plt.xlabel('Epochs')\n",
        "plt.ylabel('Loss')\n",
        "\n",
        "net3 = Autoencoder()\n",
        "optimizer = optim.Adam(net3.parameters(), lr = learning) #using the Adam optimizer\n",
        "\n",
        "corr_train_each = torch.reshape(corr_train[:,2,:,:],(80,1,nx,nz))\n",
        "orig_train_each = torch.reshape(orig_train[:,2,:,:],(80,1,nx,nz))\n",
        "\n",
        "net3.to(device)\n",
        "train_loss = train(net3, corr_train_each, orig_train_each, epochs)\n",
        "plt.figure(3)\n",
        "plt.plot(train_loss)\n",
        "plt.title('Train Loss for w')\n",
        "plt.xlabel('Epochs')\n",
        "plt.ylabel('Loss')\n",
        "\n"
      ],
      "metadata": {
        "id": "BMQxARZ23GPV",
        "colab": {
          "base_uri": "https://localhost:8080/",
          "height": 868
        },
        "outputId": "4e23a683-8900-468c-c59e-95cfae5bb837"
      },
      "execution_count": null,
      "outputs": [
        {
          "output_type": "execute_result",
          "data": {
            "text/plain": [
              "Text(0, 0.5, 'Loss')"
            ]
          },
          "metadata": {},
          "execution_count": 64
        },
        {
          "output_type": "display_data",
          "data": {
            "text/plain": [
              "<Figure size 432x288 with 1 Axes>"
            ],
            "image/png": "[encoded data removed]"
          },
          "metadata": {
            "needs_background": "light"
          }
        },
        {
          "output_type": "display_data",
          "data": {
            "text/plain": [
              "<Figure size 432x288 with 1 Axes>"
            ],
            "image/png": "[encoded data removed]"
          },
          "metadata": {
            "needs_background": "light"
          }
        },
        {
          "output_type": "display_data",
          "data": {
            "text/plain": [
              "<Figure size 432x288 with 1 Axes>"
            ],
            "image/png": "[encoded data removed]"
          },
          "metadata": {
            "needs_background": "light"
          }
        }
      ]
    },
    {
      "cell_type": "markdown",
      "source": [
        "Reconstruct the images using the trained network"
      ],
      "metadata": {
        "id": "pzH63HeLtjEM"
      }
    },
    {
      "cell_type": "code",
      "source": [
        "u_recon = test_image_reconstruction(net1,torch.reshape(corr_full[:,0,:,:],(ny,1,nx,nz)))\n",
        "v_recon = test_image_reconstruction(net2,torch.reshape(corr_full[:,1,:,:],(ny,1,nx,nz)))\n",
        "w_recon = test_image_reconstruction(net3,torch.reshape(corr_full[:,2,:,:],(ny,1,nx,nz)))\n",
        "u_recon = u_recon.cpu().detach().numpy()\n",
        "v_recon = v_recon.cpu().detach().numpy()\n",
        "w_recon = w_recon.cpu().detach().numpy()\n",
        "\n",
        "urecon = np.zeros((ny,channel,nx,nz))\n",
        "\n",
        "for i in range(ny):\n",
        "  urecon[i,:,:,:] = np.reshape(np.stack((u_recon[i,:,:],v_recon[i,:,:],w_recon[i,:,:])),(1,3,101,101))\n"
      ],
      "metadata": {
        "id": "8szDLyBOAyDQ"
      },
      "execution_count": null,
      "outputs": []
    },
    {
      "cell_type": "markdown",
      "source": [
        "revert back to original range and standard deviation of original data"
      ],
      "metadata": {
        "id": "Zlhnn2m8L3n-"
      }
    },
    {
      "cell_type": "code",
      "source": [
        "uflucrecon = np.zeros(np.shape(urecon))\n",
        "uflucsparse2 = np.zeros(np.shape(urecon))\n",
        "\n",
        "for i in range(ny):\n",
        "  for j in range(channel):\n",
        "    uflucrecon[i,j,:,:] = urecon[i,j,:,:]*ustd[i,j]*umax[j]\n",
        "    uflucsparse2[i,j,:,:] = uflucsparse[i,j,:,:]*ustd[i,j]*umax[j]\n"
      ],
      "metadata": {
        "id": "4CxP5Il_L3RH"
      },
      "execution_count": null,
      "outputs": []
    },
    {
      "cell_type": "markdown",
      "source": [
        "# Plot Results"
      ],
      "metadata": {
        "id": "Um8_WOLx3vHr"
      }
    },
    {
      "cell_type": "markdown",
      "source": [
        "Check the 2D streamwise velocity contour of the data"
      ],
      "metadata": {
        "id": "Sw3pDqj3xAJb"
      }
    },
    {
      "cell_type": "code",
      "source": [
        "X,Y = np.meshgrid(xdata,zdata)\n",
        "\n",
        "yind = 10\n",
        "uind = 0"
      ],
      "metadata": {
        "id": "yKNYGhIVCPgU"
      },
      "execution_count": null,
      "outputs": []
    },
    {
      "cell_type": "code",
      "source": [
        "plt.figure(1)\n",
        "plt.contourf(X,Y,np.transpose(uflucsparse2[yind,uind,:,:]))\n",
        "plt.colorbar()\n",
        "plt.title('corrupt u''+ at y+ = ' + str(ydata[yind]))\n",
        "plt.xlabel('x+')\n",
        "plt.ylabel('z+')\n",
        "\n",
        "plt.figure(2)\n",
        "plt.contourf(X,Y,np.transpose(uflucrecon[yind,uind,:,:]))\n",
        "plt.colorbar()\n",
        "plt.title('reconstructed u''+ at y+ = ' + str(ydata[yind]))\n",
        "plt.xlabel('x+')\n",
        "plt.ylabel('z+')\n",
        "\n",
        "plt.figure(3)\n",
        "plt.contourf(X,Y,np.transpose(udata[yind,uind,:,:]))\n",
        "plt.colorbar()\n",
        "plt.title('original u''+ at y+ = ' + str(ydata[yind]))\n",
        "plt.xlabel('x+')\n",
        "plt.ylabel('z+')"
      ],
      "metadata": {
        "colab": {
          "base_uri": "https://localhost:8080/",
          "height": 868
        },
        "id": "y1K28LixD5hi",
        "outputId": "2576c546-4ac4-4415-eb9d-da93475f200c"
      },
      "execution_count": null,
      "outputs": [
        {
          "output_type": "execute_result",
          "data": {
            "text/plain": [
              "Text(0, 0.5, 'z+')"
            ]
          },
          "metadata": {},
          "execution_count": 108
        },
        {
          "output_type": "display_data",
          "data": {
            "text/plain": [
              "<Figure size 432x288 with 2 Axes>"
            ],
            "image/png": "[encoded data removed]"
          },
          "metadata": {
            "needs_background": "light"
          }
        },
        {
          "output_type": "display_data",
          "data": {
            "text/plain": [
              "<Figure size 432x288 with 2 Axes>"
            ],
            "image/png": "[encoded data removed]"
          },
          "metadata": {
            "needs_background": "light"
          }
        },
        {
          "output_type": "display_data",
          "data": {
            "text/plain": [
              "<Figure size 432x288 with 2 Axes>"
            ],
            "image/png": "[encoded data removed]"
          },
          "metadata": {
            "needs_background": "light"
          }
        }
      ]
    },
    {
      "cell_type": "markdown",
      "source": [
        "save the data to be used in matlab "
      ],
      "metadata": {
        "id": "scIInJJgCisD"
      }
    },
    {
      "cell_type": "code",
      "source": [
        "from scipy.io import savemat\n",
        "savemat(PATH + 'ucorrupt.mat',{'data': uflucsparse2})\n",
        "savemat(PATH + 'ureconstruct.mat',{'data': uflucrecon})\n",
        "savemat(PATH + 'uoriginal.mat',{'data': udata})"
      ],
      "metadata": {
        "id": "aoduP1azDKyg"
      },
      "execution_count": null,
      "outputs": []
    }
  ]
}